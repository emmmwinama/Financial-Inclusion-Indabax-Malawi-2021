{
 "cells": [
  {
   "cell_type": "code",
   "execution_count": 1,
   "id": "b0243965",
   "metadata": {
    "scrolled": true
   },
   "outputs": [],
   "source": [
    "import pandas as pd\n",
    "import xgboost as xgb\n",
    "from sklearn.datasets import load_boston\n",
    "from sklearn.model_selection import train_test_split\n",
    "from sklearn.metrics import mean_squared_error"
   ]
  },
  {
   "cell_type": "code",
   "execution_count": 2,
   "id": "f5d01eac",
   "metadata": {},
   "outputs": [],
   "source": [
    "train_data = pd.read_csv('Data/Train_v2.csv')\n",
    "test_data = pd.read_csv('Data/Test_v2.csv')\n",
    "target = train_data['bank_account']\n"
   ]
  },
  {
   "cell_type": "code",
   "execution_count": 3,
   "id": "9ebaa90c",
   "metadata": {
    "scrolled": false
   },
   "outputs": [
    {
     "data": {
      "text/html": [
       "<div>\n",
       "<style scoped>\n",
       "    .dataframe tbody tr th:only-of-type {\n",
       "        vertical-align: middle;\n",
       "    }\n",
       "\n",
       "    .dataframe tbody tr th {\n",
       "        vertical-align: top;\n",
       "    }\n",
       "\n",
       "    .dataframe thead th {\n",
       "        text-align: right;\n",
       "    }\n",
       "</style>\n",
       "<table border=\"1\" class=\"dataframe\">\n",
       "  <thead>\n",
       "    <tr style=\"text-align: right;\">\n",
       "      <th></th>\n",
       "      <th>country</th>\n",
       "      <th>year</th>\n",
       "      <th>uniqueid</th>\n",
       "      <th>bank_account</th>\n",
       "      <th>location_type</th>\n",
       "      <th>cellphone_access</th>\n",
       "      <th>household_size</th>\n",
       "      <th>age_of_respondent</th>\n",
       "      <th>gender_of_respondent</th>\n",
       "      <th>relationship_with_head</th>\n",
       "      <th>marital_status</th>\n",
       "      <th>education_level</th>\n",
       "      <th>job_type</th>\n",
       "    </tr>\n",
       "  </thead>\n",
       "  <tbody>\n",
       "    <tr>\n",
       "      <th>0</th>\n",
       "      <td>Kenya</td>\n",
       "      <td>2018</td>\n",
       "      <td>uniqueid_1</td>\n",
       "      <td>Yes</td>\n",
       "      <td>Rural</td>\n",
       "      <td>Yes</td>\n",
       "      <td>3</td>\n",
       "      <td>24</td>\n",
       "      <td>Female</td>\n",
       "      <td>Spouse</td>\n",
       "      <td>Married/Living together</td>\n",
       "      <td>Secondary education</td>\n",
       "      <td>Self employed</td>\n",
       "    </tr>\n",
       "    <tr>\n",
       "      <th>1</th>\n",
       "      <td>Kenya</td>\n",
       "      <td>2018</td>\n",
       "      <td>uniqueid_2</td>\n",
       "      <td>No</td>\n",
       "      <td>Rural</td>\n",
       "      <td>No</td>\n",
       "      <td>5</td>\n",
       "      <td>70</td>\n",
       "      <td>Female</td>\n",
       "      <td>Head of Household</td>\n",
       "      <td>Widowed</td>\n",
       "      <td>No formal education</td>\n",
       "      <td>Government Dependent</td>\n",
       "    </tr>\n",
       "    <tr>\n",
       "      <th>2</th>\n",
       "      <td>Kenya</td>\n",
       "      <td>2018</td>\n",
       "      <td>uniqueid_3</td>\n",
       "      <td>Yes</td>\n",
       "      <td>Urban</td>\n",
       "      <td>Yes</td>\n",
       "      <td>5</td>\n",
       "      <td>26</td>\n",
       "      <td>Male</td>\n",
       "      <td>Other relative</td>\n",
       "      <td>Single/Never Married</td>\n",
       "      <td>Vocational/Specialised training</td>\n",
       "      <td>Self employed</td>\n",
       "    </tr>\n",
       "    <tr>\n",
       "      <th>3</th>\n",
       "      <td>Kenya</td>\n",
       "      <td>2018</td>\n",
       "      <td>uniqueid_4</td>\n",
       "      <td>No</td>\n",
       "      <td>Rural</td>\n",
       "      <td>Yes</td>\n",
       "      <td>5</td>\n",
       "      <td>34</td>\n",
       "      <td>Female</td>\n",
       "      <td>Head of Household</td>\n",
       "      <td>Married/Living together</td>\n",
       "      <td>Primary education</td>\n",
       "      <td>Formally employed Private</td>\n",
       "    </tr>\n",
       "    <tr>\n",
       "      <th>4</th>\n",
       "      <td>Kenya</td>\n",
       "      <td>2018</td>\n",
       "      <td>uniqueid_5</td>\n",
       "      <td>No</td>\n",
       "      <td>Urban</td>\n",
       "      <td>No</td>\n",
       "      <td>8</td>\n",
       "      <td>26</td>\n",
       "      <td>Male</td>\n",
       "      <td>Child</td>\n",
       "      <td>Single/Never Married</td>\n",
       "      <td>Primary education</td>\n",
       "      <td>Informally employed</td>\n",
       "    </tr>\n",
       "  </tbody>\n",
       "</table>\n",
       "</div>"
      ],
      "text/plain": [
       "  country  year    uniqueid bank_account location_type cellphone_access  \\\n",
       "0   Kenya  2018  uniqueid_1          Yes         Rural              Yes   \n",
       "1   Kenya  2018  uniqueid_2           No         Rural               No   \n",
       "2   Kenya  2018  uniqueid_3          Yes         Urban              Yes   \n",
       "3   Kenya  2018  uniqueid_4           No         Rural              Yes   \n",
       "4   Kenya  2018  uniqueid_5           No         Urban               No   \n",
       "\n",
       "   household_size  age_of_respondent gender_of_respondent  \\\n",
       "0               3                 24               Female   \n",
       "1               5                 70               Female   \n",
       "2               5                 26                 Male   \n",
       "3               5                 34               Female   \n",
       "4               8                 26                 Male   \n",
       "\n",
       "  relationship_with_head           marital_status  \\\n",
       "0                 Spouse  Married/Living together   \n",
       "1      Head of Household                  Widowed   \n",
       "2         Other relative     Single/Never Married   \n",
       "3      Head of Household  Married/Living together   \n",
       "4                  Child     Single/Never Married   \n",
       "\n",
       "                   education_level                   job_type  \n",
       "0              Secondary education              Self employed  \n",
       "1              No formal education       Government Dependent  \n",
       "2  Vocational/Specialised training              Self employed  \n",
       "3                Primary education  Formally employed Private  \n",
       "4                Primary education        Informally employed  "
      ]
     },
     "execution_count": 3,
     "metadata": {},
     "output_type": "execute_result"
    }
   ],
   "source": [
    "train_data.head()"
   ]
  },
  {
   "cell_type": "code",
   "execution_count": 7,
   "id": "4acef4bc",
   "metadata": {},
   "outputs": [
    {
     "name": "stdout",
     "output_type": "stream",
     "text": [
      "0        1\n",
      "1        0\n",
      "2        1\n",
      "3        0\n",
      "4        0\n",
      "        ..\n",
      "23519    0\n",
      "23520    0\n",
      "23521    0\n",
      "23522    0\n",
      "23523    0\n",
      "Name: bank_account, Length: 23524, dtype: int32\n"
     ]
    }
   ],
   "source": [
    "#import preprocessing module\n",
    "from sklearn.preprocessing import LabelEncoder\n",
    "from sklearn.preprocessing import MinMaxScaler\n",
    "\n",
    "# Cobvert target label to numerical Data\n",
    "le = LabelEncoder()\n",
    "train_data['bank_account'] = le.fit_transform(train_data['bank_account'])\n",
    "\n",
    "#Separate training features from target\n",
    "X_train = train_data.drop(['bank_account'], axis=1)\n",
    "y_train = train_data['bank_account']\n",
    "\n",
    "print(y_train)"
   ]
  },
  {
   "cell_type": "code",
   "execution_count": 14,
   "id": "649e0761",
   "metadata": {},
   "outputs": [],
   "source": [
    "# function to preprocess our data from train models\n",
    "\n",
    "def preprocessing_data(data):\n",
    "\n",
    "    # Convert the following numerical labels from interger to float\n",
    "    float_array = data[[\"household_size\", \"age_of_respondent\", \"year\"]].values.astype(float\n",
    "    )\n",
    "    \n",
    "    # categorical features to be onverted to One Hot Encoding\n",
    "    categ = [\n",
    "        \"relationship_with_head\",\n",
    "        \"marital_status\",\n",
    "        \"job_type\",\n",
    "        \"country\",\n",
    "        \"education_level\"\n",
    "    ]\n",
    "    \n",
    "    # One Hot Encoding conversion\n",
    "    data = pd.get_dummies(data, prefix_sep=\"_\", columns=categ)\n",
    "    \n",
    "    # Label Encoder conversion\n",
    "    data[\"location_type\"] = le.fit_transform(data[\"location_type\"])\n",
    "    data[\"cellphone_access\"] = le.fit_transform(data[\"cellphone_access\"])\n",
    "    data[\"gender_of_respondent\"] = le.fit_transform(data[\"gender_of_respondent\"])\n",
    "    \n",
    "    # drop uniquid column\n",
    "    data = data.drop([\"uniqueid\"], axis=1)\n",
    "    \n",
    "    # scale our data into range of 0 and 1\n",
    "    scaler = MinMaxScaler(feature_range=(0, 1))\n",
    "    data = scaler.fit_transform(data)\n",
    "    \n",
    "    return data"
   ]
  },
  {
   "cell_type": "code",
   "execution_count": 15,
   "id": "7df45ee5",
   "metadata": {},
   "outputs": [],
   "source": [
    "# preprocess the train data \n",
    "processed_train_data = preprocessing_data(X_train)\n",
    "processed_test_data = preprocessing_data(test_data)"
   ]
  },
  {
   "cell_type": "code",
   "execution_count": 16,
   "id": "05d7debb",
   "metadata": {},
   "outputs": [
    {
     "name": "stdout",
     "output_type": "stream",
     "text": [
      "[[1.        0.        1.        0.1       0.0952381 0.        0.\n",
      "  0.        0.        0.        0.        1.        0.        0.\n",
      "  1.        0.        0.        0.        0.        0.        0.\n",
      "  0.        0.        0.        0.        0.        1.        1.\n",
      "  0.        0.        0.        0.        0.        0.        1.\n",
      "  0.        0.       ]]\n"
     ]
    }
   ],
   "source": [
    "# the first train row\n",
    "print(processed_train_data[:1])"
   ]
  },
  {
   "cell_type": "code",
   "execution_count": 17,
   "id": "55f2c451",
   "metadata": {},
   "outputs": [
    {
     "name": "stdout",
     "output_type": "stream",
     "text": [
      "(23524, 37)\n"
     ]
    }
   ],
   "source": [
    "# shape of the processed train set\n",
    "print(processed_train_data.shape)"
   ]
  },
  {
   "cell_type": "code",
   "execution_count": 20,
   "id": "2d42ac3e",
   "metadata": {},
   "outputs": [],
   "source": [
    "# Split train_data\n",
    "from sklearn.model_selection import train_test_split\n",
    "\n",
    "X_Train, X_val, Y_Train, y_val = train_test_split(processed_train_data, y_train, stratify = y_train, test_size = 0.1, random_state=42)"
   ]
  },
  {
   "cell_type": "code",
   "execution_count": 25,
   "id": "9d956888",
   "metadata": {},
   "outputs": [
    {
     "name": "stdout",
     "output_type": "stream",
     "text": [
      "[16:43:29] WARNING: ..\\src\\learner.cc:1095: Starting in XGBoost 1.3.0, the default evaluation metric used with the objective 'binary:logistic' was changed from 'error' to 'logloss'. Explicitly set eval_metric if you'd like to restore the old behavior.\n"
     ]
    },
    {
     "data": {
      "text/plain": [
       "XGBClassifier(base_score=0.5, booster='gbtree', colsample_bylevel=1,\n",
       "              colsample_bynode=1, colsample_bytree=1, gamma=0, gpu_id=-1,\n",
       "              importance_type='gain', interaction_constraints='',\n",
       "              learning_rate=0.300000012, max_delta_step=0, max_depth=6,\n",
       "              min_child_weight=1, missing=nan, monotone_constraints='()',\n",
       "              n_estimators=100, n_jobs=4, num_parallel_tree=1, random_state=0,\n",
       "              reg_alpha=0, reg_lambda=1, scale_pos_weight=1, subsample=1,\n",
       "              tree_method='exact', validate_parameters=1, verbosity=None)"
      ]
     },
     "execution_count": 25,
     "metadata": {},
     "output_type": "execute_result"
    }
   ],
   "source": [
    "#import classifier algorithm here\n",
    "from sklearn.linear_model import LogisticRegression\n",
    "from sklearn.ensemble import RandomForestClassifier\n",
    "from sklearn.neighbors import KNeighborsClassifier\n",
    "from sklearn.ensemble import ExtraTreesClassifier\n",
    "from xgboost import XGBClassifier\n",
    "import warnings\n",
    "warnings.filterwarnings('ignore')\n",
    "\n",
    "# create models\n",
    "lg_model = LogisticRegression()\n",
    "rf_model = RandomForestClassifier()\n",
    "kn_model = KNeighborsClassifier()\n",
    "et_model = ExtraTreesClassifier()\n",
    "xg_model = XGBClassifier()\n",
    "\n",
    "\n",
    "#fitting the models\n",
    "lg_model.fit(X_Train,Y_Train)\n",
    "rf_model.fit(X_Train,Y_Train)\n",
    "kn_model.fit(X_Train,Y_Train)\n",
    "et_model.fit(X_Train,Y_Train)\n",
    "xg_model.fit(X_Train,Y_Train)\n",
    "\n"
   ]
  },
  {
   "cell_type": "code",
   "execution_count": 28,
   "id": "e9f03067",
   "metadata": {},
   "outputs": [
    {
     "name": "stdout",
     "output_type": "stream",
     "text": [
      "Error rate Logistic Regression classifier:  0.11219719507012327\n",
      "Error rate of Random Forest classifier:  0.13769655758606036\n",
      "Error rate of KNeighbors Classifier:  0.11857203569910757\n",
      "Error rate of Extra Tree classifier:  0.14704632384190397\n",
      "Error rate of XGB classifier:  0.10752231194220141\n"
     ]
    }
   ],
   "source": [
    "# import evaluation metrics\n",
    "from sklearn.metrics import confusion_matrix, accuracy_score\n",
    "\n",
    "# evaluate the model\n",
    "lg_y_pred = lg_model.predict(X_val)\n",
    "rf_y_pred = rf_model.predict(X_val)\n",
    "kn_y_pred = kn_model.predict(X_val)\n",
    "et_y_pred = et_model.predict(X_val)\n",
    "xg_y_pred = xg_model.predict(X_val)\n",
    "\n",
    "# Get error rate\n",
    "print(\"Error rate Logistic Regression classifier: \", 1 - accuracy_score(y_val, lg_y_pred))\n",
    "print(\"Error rate of Random Forest classifier: \", 1 - accuracy_score(y_val, rf_y_pred))\n",
    "print(\"Error rate of KNeighbors Classifier: \", 1 - accuracy_score(y_val, kn_y_pred))\n",
    "print(\"Error rate of Extra Tree classifier: \", 1 - accuracy_score(y_val, et_y_pred))\n",
    "print(\"Error rate of XGB classifier: \", 1 - accuracy_score(y_val, xg_y_pred))"
   ]
  },
  {
   "cell_type": "code",
   "execution_count": 29,
   "id": "2792e166",
   "metadata": {},
   "outputs": [
    {
     "data": {
      "text/plain": [
       "<sklearn.metrics._plot.confusion_matrix.ConfusionMatrixDisplay at 0x1f1001fc820>"
      ]
     },
     "execution_count": 29,
     "metadata": {},
     "output_type": "execute_result"
    },
    {
     "data": {
      "image/png": "[encoded data removed]",
      "text/plain": [
       "<Figure size 432x288 with 2 Axes>"
      ]
     },
     "metadata": {
      "needs_background": "light"
     },
     "output_type": "display_data"
    }
   ],
   "source": [
    "from sklearn.metrics import plot_confusion_matrix\n",
    "\n",
    "# Get confusion matrix for Gradient Boosting Classifier\n",
    "plot_confusion_matrix( xg_model,X_val, y_val,normalize='true')"
   ]
  },
  {
   "cell_type": "code",
   "execution_count": 31,
   "id": "107b62dc",
   "metadata": {},
   "outputs": [
    {
     "name": "stdout",
     "output_type": "stream",
     "text": [
      "Fitting 5 folds for each of 36 candidates, totalling 180 fits\n",
      "[18:01:18] WARNING: ..\\src\\learner.cc:573: \n",
      "Parameters: { \"min_child_weighth\" } might not be used.\n",
      "\n",
      "  This may not be accurate due to some parameters are only used in language bindings but\n",
      "  passed down to XGBoost core.  Or some parameters are not used but slip through this\n",
      "  verification. Please open an issue if you find above cases.\n",
      "\n",
      "\n",
      "[18:01:18] WARNING: ..\\src\\learner.cc:1095: Starting in XGBoost 1.3.0, the default evaluation metric used with the objective 'binary:logistic' was changed from 'error' to 'logloss'. Explicitly set eval_metric if you'd like to restore the old behavior.\n",
      "{'gamma': 0.5, 'max_depth': 3, 'min_child_weighth': 1, 'subsample': 0.6}\n"
     ]
    }
   ],
   "source": [
    "# Import GridSearchCV\n",
    "from sklearn.model_selection import GridSearchCV\n",
    "\n",
    "# Optimize model parameters\n",
    "# I run this code in google colab to make the execution much faster and use the best params in the next code\n",
    "param_grid = {'min_child_weighth': [1, 5, 10],\n",
    "        'gamma': [0.5, 1],\n",
    "        'subsample': [0.6, 0.8, 1.0],\n",
    "        'max_depth': [3, 5]\n",
    "        }\n",
    "my_xgb_model = GridSearchCV(xg_model, param_grid,n_jobs=-1,verbose=2,cv=5)\n",
    "my_xgb_model.fit(X_Train, Y_Train)\n",
    "print(my_xgb_model.best_params_)"
   ]
  },
  {
   "cell_type": "code",
   "execution_count": 32,
   "id": "454bf461",
   "metadata": {},
   "outputs": [
    {
     "name": "stdout",
     "output_type": "stream",
     "text": [
      "[18:01:21] WARNING: ..\\src\\learner.cc:1095: Starting in XGBoost 1.3.0, the default evaluation metric used with the objective 'binary:logistic' was changed from 'error' to 'logloss'. Explicitly set eval_metric if you'd like to restore the old behavior.\n",
      "Error rate of the XGB classifier:  0.10922226944326396\n"
     ]
    }
   ],
   "source": [
    "from sklearn.metrics import confusion_matrix, accuracy_score\n",
    "\n",
    "\n",
    "# fit by setting best parameters and Evaluate model\n",
    "xgb_model = XGBClassifier(min_child_weight=1, gamma=1, subsample=0.8, max_depth=5)\n",
    "\n",
    "xgb_model.fit(X_Train, Y_Train)\n",
    "y_pred = xgb_model.predict(X_val)\n",
    "\n",
    "# Get error rate\n",
    "print(\"Error rate of the XGB classifier: \", 1 - accuracy_score(y_val, y_pred))"
   ]
  },
  {
   "cell_type": "code",
   "execution_count": null,
   "id": "28eda80b",
   "metadata": {},
   "outputs": [],
   "source": []
  }
 ],
 "metadata": {
  "kernelspec": {
   "display_name": "Python 3",
   "language": "python",
   "name": "python3"
  },
  "language_info": {
   "codemirror_mode": {
    "name": "ipython",
    "version": 3
   },
   "file_extension": ".py",
   "mimetype": "text/x-python",
   "name": "python",
   "nbconvert_exporter": "python",
   "pygments_lexer": "ipython3",
   "version": "3.8.8"
  }
 },
 "nbformat": 4,
 "nbformat_minor": 5
}
